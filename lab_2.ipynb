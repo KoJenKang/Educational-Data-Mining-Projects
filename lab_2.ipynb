{
  "nbformat": 4,
  "nbformat_minor": 0,
  "metadata": {
    "colab": {
      "provenance": []
    },
    "kernelspec": {
      "name": "python3",
      "display_name": "Python 3"
    },
    "language_info": {
      "name": "python"
    }
  },
  "cells": [
    {
      "cell_type": "markdown",
      "source": [
        "install ChromaDB & Gemini API Python Library."
      ],
      "metadata": {
        "id": "CF1KH_AfbZul"
      }
    },
    {
      "cell_type": "code",
      "execution_count": null,
      "metadata": {
        "colab": {
          "base_uri": "https://localhost:8080/"
        },
        "id": "zF4GCyqRbHhJ",
        "outputId": "d38414ab-cbe7-4bb5-a9e2-20e9213ed231"
      },
      "outputs": [
        {
          "output_type": "stream",
          "name": "stdout",
          "text": [
            "\u001b[2K     \u001b[90m━━━━━━━━━━━━━━━━━━━━━━━━━━━━━━━━━━━━━━━━\u001b[0m \u001b[32m146.8/146.8 kB\u001b[0m \u001b[31m2.2 MB/s\u001b[0m eta \u001b[36m0:00:00\u001b[0m\n",
            "\u001b[2K     \u001b[90m━━━━━━━━━━━━━━━━━━━━━━━━━━━━━━━━━━━━━━━━\u001b[0m \u001b[32m664.5/664.5 kB\u001b[0m \u001b[31m11.2 MB/s\u001b[0m eta \u001b[36m0:00:00\u001b[0m\n",
            "\u001b[2K     \u001b[90m━━━━━━━━━━━━━━━━━━━━━━━━━━━━━━━━━━━━━━━━\u001b[0m \u001b[32m525.5/525.5 kB\u001b[0m \u001b[31m7.6 MB/s\u001b[0m eta \u001b[36m0:00:00\u001b[0m\n",
            "\u001b[2K     \u001b[90m━━━━━━━━━━━━━━━━━━━━━━━━━━━━━━━━━━━━━━━━\u001b[0m \u001b[32m2.4/2.4 MB\u001b[0m \u001b[31m44.2 MB/s\u001b[0m eta \u001b[36m0:00:00\u001b[0m\n",
            "\u001b[2K     \u001b[90m━━━━━━━━━━━━━━━━━━━━━━━━━━━━━━━━━━━━━━━━\u001b[0m \u001b[32m91.9/91.9 kB\u001b[0m \u001b[31m10.3 MB/s\u001b[0m eta \u001b[36m0:00:00\u001b[0m\n",
            "\u001b[2K     \u001b[90m━━━━━━━━━━━━━━━━━━━━━━━━━━━━━━━━━━━━━━━━\u001b[0m \u001b[32m60.8/60.8 kB\u001b[0m \u001b[31m7.1 MB/s\u001b[0m eta \u001b[36m0:00:00\u001b[0m\n",
            "\u001b[2K     \u001b[90m━━━━━━━━━━━━━━━━━━━━━━━━━━━━━━━━━━━━━━━━\u001b[0m \u001b[32m41.3/41.3 kB\u001b[0m \u001b[31m4.2 MB/s\u001b[0m eta \u001b[36m0:00:00\u001b[0m\n",
            "\u001b[2K     \u001b[90m━━━━━━━━━━━━━━━━━━━━━━━━━━━━━━━━━━━━━━━━\u001b[0m \u001b[32m5.4/5.4 MB\u001b[0m \u001b[31m88.8 MB/s\u001b[0m eta \u001b[36m0:00:00\u001b[0m\n",
            "\u001b[2K     \u001b[90m━━━━━━━━━━━━━━━━━━━━━━━━━━━━━━━━━━━━━━━━\u001b[0m \u001b[32m6.8/6.8 MB\u001b[0m \u001b[31m78.9 MB/s\u001b[0m eta \u001b[36m0:00:00\u001b[0m\n",
            "\u001b[2K     \u001b[90m━━━━━━━━━━━━━━━━━━━━━━━━━━━━━━━━━━━━━━━━\u001b[0m \u001b[32m60.1/60.1 kB\u001b[0m \u001b[31m7.0 MB/s\u001b[0m eta \u001b[36m0:00:00\u001b[0m\n",
            "\u001b[2K     \u001b[90m━━━━━━━━━━━━━━━━━━━━━━━━━━━━━━━━━━━━━━━━\u001b[0m \u001b[32m106.1/106.1 kB\u001b[0m \u001b[31m11.7 MB/s\u001b[0m eta \u001b[36m0:00:00\u001b[0m\n",
            "\u001b[2K     \u001b[90m━━━━━━━━━━━━━━━━━━━━━━━━━━━━━━━━━━━━━━━━\u001b[0m \u001b[32m67.3/67.3 kB\u001b[0m \u001b[31m8.4 MB/s\u001b[0m eta \u001b[36m0:00:00\u001b[0m\n",
            "\u001b[?25h  Installing build dependencies ... \u001b[?25l\u001b[?25hdone\n",
            "  Getting requirements to build wheel ... \u001b[?25l\u001b[?25hdone\n",
            "  Preparing metadata (pyproject.toml) ... \u001b[?25l\u001b[?25hdone\n",
            "\u001b[2K     \u001b[90m━━━━━━━━━━━━━━━━━━━━━━━━━━━━━━━━━━━━━━━━\u001b[0m \u001b[32m698.9/698.9 kB\u001b[0m \u001b[31m53.0 MB/s\u001b[0m eta \u001b[36m0:00:00\u001b[0m\n",
            "\u001b[2K     \u001b[90m━━━━━━━━━━━━━━━━━━━━━━━━━━━━━━━━━━━━━━━━\u001b[0m \u001b[32m1.6/1.6 MB\u001b[0m \u001b[31m76.2 MB/s\u001b[0m eta \u001b[36m0:00:00\u001b[0m\n",
            "\u001b[2K     \u001b[90m━━━━━━━━━━━━━━━━━━━━━━━━━━━━━━━━━━━━━━━━\u001b[0m \u001b[32m67.6/67.6 kB\u001b[0m \u001b[31m8.4 MB/s\u001b[0m eta \u001b[36m0:00:00\u001b[0m\n",
            "\u001b[2K     \u001b[90m━━━━━━━━━━━━━━━━━━━━━━━━━━━━━━━━━━━━━━━━\u001b[0m \u001b[32m141.1/141.1 kB\u001b[0m \u001b[31m17.0 MB/s\u001b[0m eta \u001b[36m0:00:00\u001b[0m\n",
            "\u001b[2K     \u001b[90m━━━━━━━━━━━━━━━━━━━━━━━━━━━━━━━━━━━━━━━━\u001b[0m \u001b[32m71.9/71.9 kB\u001b[0m \u001b[31m9.0 MB/s\u001b[0m eta \u001b[36m0:00:00\u001b[0m\n",
            "\u001b[2K     \u001b[90m━━━━━━━━━━━━━━━━━━━━━━━━━━━━━━━━━━━━━━━━\u001b[0m \u001b[32m46.0/46.0 kB\u001b[0m \u001b[31m5.4 MB/s\u001b[0m eta \u001b[36m0:00:00\u001b[0m\n",
            "\u001b[2K     \u001b[90m━━━━━━━━━━━━━━━━━━━━━━━━━━━━━━━━━━━━━━━━\u001b[0m \u001b[32m50.8/50.8 kB\u001b[0m \u001b[31m6.4 MB/s\u001b[0m eta \u001b[36m0:00:00\u001b[0m\n",
            "\u001b[2K     \u001b[90m━━━━━━━━━━━━━━━━━━━━━━━━━━━━━━━━━━━━━━━━\u001b[0m \u001b[32m58.3/58.3 kB\u001b[0m \u001b[31m7.4 MB/s\u001b[0m eta \u001b[36m0:00:00\u001b[0m\n",
            "\u001b[2K     \u001b[90m━━━━━━━━━━━━━━━━━━━━━━━━━━━━━━━━━━━━━━━━\u001b[0m \u001b[32m341.4/341.4 kB\u001b[0m \u001b[31m37.8 MB/s\u001b[0m eta \u001b[36m0:00:00\u001b[0m\n",
            "\u001b[2K     \u001b[90m━━━━━━━━━━━━━━━━━━━━━━━━━━━━━━━━━━━━━━━━\u001b[0m \u001b[32m3.4/3.4 MB\u001b[0m \u001b[31m66.6 MB/s\u001b[0m eta \u001b[36m0:00:00\u001b[0m\n",
            "\u001b[2K     \u001b[90m━━━━━━━━━━━━━━━━━━━━━━━━━━━━━━━━━━━━━━━━\u001b[0m \u001b[32m1.3/1.3 MB\u001b[0m \u001b[31m75.5 MB/s\u001b[0m eta \u001b[36m0:00:00\u001b[0m\n",
            "\u001b[2K     \u001b[90m━━━━━━━━━━━━━━━━━━━━━━━━━━━━━━━━━━━━━━━━\u001b[0m \u001b[32m130.2/130.2 kB\u001b[0m \u001b[31m16.7 MB/s\u001b[0m eta \u001b[36m0:00:00\u001b[0m\n",
            "\u001b[2K     \u001b[90m━━━━━━━━━━━━━━━━━━━━━━━━━━━━━━━━━━━━━━━━\u001b[0m \u001b[32m86.8/86.8 kB\u001b[0m \u001b[31m10.6 MB/s\u001b[0m eta \u001b[36m0:00:00\u001b[0m\n",
            "\u001b[?25h  Building wheel for pypika (pyproject.toml) ... \u001b[?25l\u001b[?25hdone\n"
          ]
        }
      ],
      "source": [
        "!pip install -U -q google.generativeai\n",
        "!pip install -q chromadb"
      ]
    },
    {
      "cell_type": "markdown",
      "source": [
        "import the modules."
      ],
      "metadata": {
        "id": "8hgDftRUbyrk"
      }
    },
    {
      "cell_type": "code",
      "source": [
        "import textwrap\n",
        "import chromadb\n",
        "import numpy as np\n",
        "import pandas as pd\n",
        "\n",
        "import google.generativeai as genai\n",
        "import google.ai.generativelanguage as glm\n",
        "\n",
        "# Used to securely store your API key 存取放在secreat 的 key\n",
        "from google.colab import userdata\n",
        "\n",
        "from IPython.display import Markdown #用來印出data的\n",
        "from chromadb import Documents, EmbeddingFunction, Embeddings"
      ],
      "metadata": {
        "id": "u-D4KLOsbxZE"
      },
      "execution_count": null,
      "outputs": []
    },
    {
      "cell_type": "markdown",
      "source": [
        "get API Key from secret"
      ],
      "metadata": {
        "id": "_gbaSipPc3Xl"
      }
    },
    {
      "cell_type": "code",
      "source": [
        "API_KEY=userdata.get('API_KEY')\n",
        "genai.configure(api_key=API_KEY)"
      ],
      "metadata": {
        "id": "C0UruC0WdFoQ"
      },
      "execution_count": null,
      "outputs": []
    },
    {
      "cell_type": "markdown",
      "source": [
        "to know what kinds of related models we can use."
      ],
      "metadata": {
        "id": "JdhL3IN-dVI3"
      }
    },
    {
      "cell_type": "code",
      "source": [
        "for model in genai.list_models():\n",
        "  if 'embedContent' in model.supported_generation_methods:\n",
        "    print(model.name)"
      ],
      "metadata": {
        "colab": {
          "base_uri": "https://localhost:8080/",
          "height": 53
        },
        "id": "hkZw2-eVddVQ",
        "outputId": "369dafa2-1d7a-40ff-cf82-a9f8e61a6dd6"
      },
      "execution_count": null,
      "outputs": [
        {
          "output_type": "stream",
          "name": "stdout",
          "text": [
            "models/embedding-001\n",
            "models/text-embedding-004\n"
          ]
        }
      ]
    },
    {
      "cell_type": "markdown",
      "source": [
        "Put the data that will be embedded and put into the vector database. the original example provides three document about Google products, and here I replaced these three with three recent news article, which are about earthquake, Shohei Ohtani, and Vietnam tycoon. Trying to test if I can retrieve the relevent passage beased on the key words I provide from the vector database, which contains the vector infomation of the three documents, and also to test if Gemini can give me reasonable response base on the prompt I give that containing query question and related passage fetched from calling 'query' on the vector database to find similar embeddings by performing nearest neighbor search.  "
      ],
      "metadata": {
        "id": "FoPpBjved0YA"
      }
    },
    {
      "cell_type": "code",
      "source": [
        "DOCUMENT1 = \"A court in Vietnam sentenced real estate tycoon Truong My Lan Thursday to death over her role in a 304 trillion dong ($12.46 billion) financial fraud case, the country’s biggest on record, state media reported.Her trial, begun on March 5 and ending earlier than planned, was one dramatic result of a campaign against corruption that the leader of the ruling Communist Party, Nguyen Phu Trong, has pledged for years to stamp out. Lan, the chairwoman of real estate developer Van Thinh Phat Holdings Group, was found guilty of embezzlement, bribery and violations of banking rules at the end of a trial in the business hub of Ho Chi Minh City, state media said.“We will keep fighting to see what we can do,” a family member told Reuters, speaking on condition of anonymity. Before the verdict he had said Lan would appeal against the sentence.Lan had pleaded not-guilty to the embezzlement and bribery charges, Nguyen Huy Thiep, one of Lan’s lawyers told Reuters.“Of course she will appeal the verdict,” he added noting she was sentenced to death for the embezzlement charge and to 20 years each for the other two charges of bribery and violations of banking regulations.Vietnam imposes the death penalty mostly over violent offenses but also for economic crimes. Human rights groups say it has executed hundreds of convicts in recent years, mainly by lethal injection.The Thanh Nien newspaper said 84 defendants in the case received sentences ranging from probation for three years to life imprisonment. Among them are Lan’s husband, Eric Chu, a businessman from Hong Kong, who was sentenced to nine years in jail, and her niece who got 17 years.\"\n",
        "DOCUMENT2 = \"A former interpreter for Los Angeles Dodgers superstar Shohei Ohtani is in negotiations to plead guilty to federal crimes related to accusations he stole millions from Ohtani and used it for gambling, The New York Times reported Wednesday, citing three people familiar with the matter. Ippei Mizuhara was fired last month after Ohtani’s lawyers accused him of stealing from Ohtani and placing bets with a bookmaker who is under federal investigation. Ohtani later alleged Mizuhara stole the money from one of his bank accounts.Prosecutors now believe that Mizuhara could have stolen money from Ohtani beyond the $4.5 million that Mizuhara initially was accused of taking, the three people with knowledge of the matter told the New York Times.Law enforcement investigators believe they have evidence that Mizuhara was able to change the settings on Ohtani’s bank accounts, which would have prevented Ohtani from getting alerts and confirmation on the transactions, the New York Times reported, citing the three people knowledgeable of the case.Ohtani has denied any involvement in the scandal.An attorney for Mizuhara, Michael Freedman, told CNN Wednesday that“we do not have any comment at this time.”The allegations became public while the Dodgers were in South Korea for an MLB season-opening series in March, with ESPN and the Los Angeles Times reporting Ohtani’s lawyers accused Mizuhara of “massive theft” of millions of dollars and placing bets with a bookie under federal investigation. Mizuhara was fired while the team was in Seoul. Ohtani, who during the offseason signed baseball’s richest contract with the Dodgers, adamantly denied to reporters March 25 betting on any sport or paying a bookie. Also, elaborating on his lawyers’ accusations that Mizuhara stole from him, he alleged Mizuhara took money from one of his bank accounts.“I never bet on baseball or any other sports or never have asked somebody to do it on my behalf and I have never gone through a bookmaker to bet on sports,” Ohtani said through a different interpreter during the March 25 news conference at Dodger Stadium.The two-time MVP said he didn’t know money was being sent from one of his bank accounts to a bookmaker until he was on the South Korea trip, when he met one-on-one with after a team meeting in the clubhouse that left the slugger-pitcher thinking something was wrong.“I’m very saddened and shocked that someone who I’ve trusted has done this,” Ohtani, Major League Baseball’s only two-way player, said. ESPN’s Tisha Thompson, citing multiple unnamed sources, said on CNN’s “The Lead” last month at least $4.5 million was withdrawn via wire transfer from Ohtani’s bank accounts, though it was unclear who initiated the transfers. The scandal brought renewed scrutiny to professional sports’ closeness with gambling.The Internal Revenue Service and Major League Baseball have said they are investigating the matter, with the league trying to determine whether its strict rules against gambling were broken. A player or employee who gambles on baseball can be suspended for a year, while someone who gambles on a game they are in some way a part of can be suspended for life. MLB’s commissioner can also penalize someone who goes outside legal sports betting entities and gambles with a bookie.MLB considers Rule 21 so important it requires it be posted in every clubhouse.Mizuhara told ESPN in March:“I never bet on baseball … That’s 100 percent. I knew that rule. … We have a meeting about that in spring training.”Ohtani signed an unparalleled 10-year, $700 million deal with the Dodgers this offseason after winning the American League MVP award twice over the past three seasons as a pitcher and designated hitter with the Angels.\"\n",
        "\n",
        "DOCUMENT3 = \"The deadly 7.4 magnitude earthquake that hit Taiwan on Wednesday and left at least 9 people dead, also damaged 770 buildings, according to the latest estimates from the island’s National Fire Agency (NFA).In the capital Taipei, just 80 miles away from the epicenter, buildings also shook violently during what was Taiwan’s strongest earthquake in 25 years. But in a triumph of modern engineering, the soaring Taipei 101, once the world’s tallest skyscraper, emerged from the island’s latest seismic event undamaged.Footage from the quake appears to show the 1,667-foot-tall tower slightly swaying, its structural flexibility helping to counter the powerful motion of the quake. This movement perfectly demonstrated how the skyscraper’s single most important defense against earthquakes is the very material it is constructed from: reinforced concrete.Combining concrete’s compressive strength with steel’s tensile strength, the material makes the building flexible enough to sway, yet rigid enough to resist high winds and the typhoons that frequently hit Taiwan. (The principle that buildings can endure seismic forces by moving with them, rather than against them, has underpinned traditional architecture in earthquake-prone East Asian countries for centuries, from Japanese pagodas to Chinese palaces.)High within the tower, however, another technological innovation helps protect the 101-story skyscraper — a huge orb-like device known as a tuned mass damper. Suspended from 92 thick cables between the 87th and 92nd floors, the golden steel sphere can move about 5 feet in any direction. As a result, it acts like a pendulum that counteracts (or “dampens”) swaying motions.“It’s essentially a very large counterweight,” explained Stefan Al, author of “Supertall: How the World’s Tallest Buildings Are Reshaping Our Cities and Our Lives,” in a phone interview. “In the case of Taipei 101, it’s 660 tons. That seems really heavy, but if you compare it to the overall weight of the building, it’s just a fraction.“When a building starts to shake, (the tuned mass damper) will move in the opposite direction. In the case of Taipei 101, it's suspended… so it will lag behind as the tower sways and will absorb the kinetic energy by moving in the opposite direction,” Al said, explaining that hydraulic cylinders between the ball and the building convert this energy into heat, which is then dispersed.Tuned mass dampers are used in skyscrapers around the world, including the “super-skinny” Steinway Tower in New York and Dubai’s sail-shaped Burj al-Arab, which has 11 of them. The device crucially protects against the violent motion caused by “harmonic vibration,” which can cause structural failure during an earthquake, Al said.“(That’s) when buildings start to vibrate at their own resonance,” he said, comparing the phenomenon to a tuning fork. “This can lead to a collapse, (as the building) will start shaking faster and faster and faster.”Tuned mass dampers, which are also known as harmonic absorbers, are “tuned” to resonate at the same frequency as the building — but with wavelengths starting earlier or later, helping to dissipate the potentially catastrophic energy.The stability they provide can also reduce the uncomfortable — or even nauseating — effect swaying can have on a building’s occupants in high winds.Designed by Taiwanese firm C.Y. Lee & Partners, Taipei 101 was the world’s tallest building from 2004 until 2007, when it was surpassed by the Burj Khalifa in Dubai. An observation deck overlooking its groundbreaking tuned mass damper is now a popular visitor attraction, especially when it moves during strong winds.The giant sphere is not, however, the only design feature helping stabilize the tower, which stands close to a major fault line.For one, the skyscraper sits on exceptionally deep foundations — namely 380 reinforced concrete and steel piles drilled down into the bedrock below. Above them, the building’s core is connected to a series of “mega-columns,” located around its perimeter, via enormous steel outrigger trusses.The high-rise complies with strict anti-seismic building codes that are as stringent as one might expect on an island located along the “Pacific Ring of Fire,” which runs around the edge of the Pacific Ocean and causes massive seismic and volcanic activity from Indonesia to Chile.But while the design also underwent extensive digital modeling and “shake table” testing (in which scale models are tested on a device that replicates the movement of an earthquake), how a building like Taipei 101 would react to a stronger or closer seismic event remains, to an extent, theoretical.“Even though we have computer simulations, there’s still something about the physical that that we cannot really get from digital simulations,” said Al, adding: “Despite our technological advances, we are still testing (designs) in wind tunnels and shaker tables.\"\n",
        "\n",
        "documents = [DOCUMENT1, DOCUMENT2, DOCUMENT3]"
      ],
      "metadata": {
        "id": "9YyoT_z2eBXm"
      },
      "execution_count": null,
      "outputs": []
    },
    {
      "cell_type": "markdown",
      "source": [
        "creating the embedding database with ChromaDB and model embedding-001.\n",
        "\n",
        "Task Type includes:\n",
        "\n",
        "*   RETRIEVAL_QUERY\n",
        "*   RETRIEVAL_DOCUMENT\n",
        "*   SEMANTIC_SIMILARITY\n",
        "*   CLASSIFICATION\n",
        "*   CLUSTERING\n"
      ],
      "metadata": {
        "id": "OWTb8CRehN-p"
      }
    },
    {
      "cell_type": "code",
      "source": [
        "class GeminiEmbeddingFunction(EmbeddingFunction):\n",
        "  def __call__(self, input: Documents) -> Embeddings:\n",
        "    model = 'models/embedding-001'\n",
        "    title = \"Custom query\"\n",
        "    return genai.embed_content(model=model,\n",
        "         content=input,task_type=\"retrieval_document\",title=title)[\"embedding\"]\n",
        "def create_chroma_db(documents, name):\n",
        "  chroma_client = chromadb.Client()\n",
        "  db = chroma_client.create_collection(name=name, embedding_function=GeminiEmbeddingFunction())\n",
        "\n",
        "  for i, d in enumerate(documents):\n",
        "    db.add(\n",
        "      documents=d,\n",
        "      ids=str(i)\n",
        "    )\n",
        "  return db\n",
        "#using create database function to do document embedding and put the result in to the database\n",
        "db = create_chroma_db(documents, \"newssearch\")\n",
        "#see the result\n",
        "pd.DataFrame(db.peek(3))\n"
      ],
      "metadata": {
        "colab": {
          "base_uri": "https://localhost:8080/",
          "height": 143
        },
        "id": "O5stqywyg8sj",
        "outputId": "9a072ef5-4e27-4869-e6c1-eed962b755e6"
      },
      "execution_count": null,
      "outputs": [
        {
          "output_type": "execute_result",
          "data": {
            "text/plain": [
              "  ids                                         embeddings metadatas  \\\n",
              "0   0  [0.013291151262819767, 0.01081881858408451, -0...      None   \n",
              "1   1  [-0.015667986124753952, -0.01856137625873089, ...      None   \n",
              "2   2  [0.016905754804611206, -0.035177651792764664, ...      None   \n",
              "\n",
              "                                           documents  uris  data  \n",
              "0  A court in Vietnam sentenced real estate tycoo...  None  None  \n",
              "1  A former interpreter for Los Angeles Dodgers s...  None  None  \n",
              "2  The deadly 7.4 magnitude earthquake that hit T...  None  None  "
            ],
            "text/html": [
              "\n",
              "  <div id=\"df-ac2436bb-a186-4973-a0e1-fd3a5bcc17ef\" class=\"colab-df-container\">\n",
              "    <div>\n",
              "<style scoped>\n",
              "    .dataframe tbody tr th:only-of-type {\n",
              "        vertical-align: middle;\n",
              "    }\n",
              "\n",
              "    .dataframe tbody tr th {\n",
              "        vertical-align: top;\n",
              "    }\n",
              "\n",
              "    .dataframe thead th {\n",
              "        text-align: right;\n",
              "    }\n",
              "</style>\n",
              "<table border=\"1\" class=\"dataframe\">\n",
              "  <thead>\n",
              "    <tr style=\"text-align: right;\">\n",
              "      <th></th>\n",
              "      <th>ids</th>\n",
              "      <th>embeddings</th>\n",
              "      <th>metadatas</th>\n",
              "      <th>documents</th>\n",
              "      <th>uris</th>\n",
              "      <th>data</th>\n",
              "    </tr>\n",
              "  </thead>\n",
              "  <tbody>\n",
              "    <tr>\n",
              "      <th>0</th>\n",
              "      <td>0</td>\n",
              "      <td>[0.013291151262819767, 0.01081881858408451, -0...</td>\n",
              "      <td>None</td>\n",
              "      <td>A court in Vietnam sentenced real estate tycoo...</td>\n",
              "      <td>None</td>\n",
              "      <td>None</td>\n",
              "    </tr>\n",
              "    <tr>\n",
              "      <th>1</th>\n",
              "      <td>1</td>\n",
              "      <td>[-0.015667986124753952, -0.01856137625873089, ...</td>\n",
              "      <td>None</td>\n",
              "      <td>A former interpreter for Los Angeles Dodgers s...</td>\n",
              "      <td>None</td>\n",
              "      <td>None</td>\n",
              "    </tr>\n",
              "    <tr>\n",
              "      <th>2</th>\n",
              "      <td>2</td>\n",
              "      <td>[0.016905754804611206, -0.035177651792764664, ...</td>\n",
              "      <td>None</td>\n",
              "      <td>The deadly 7.4 magnitude earthquake that hit T...</td>\n",
              "      <td>None</td>\n",
              "      <td>None</td>\n",
              "    </tr>\n",
              "  </tbody>\n",
              "</table>\n",
              "</div>\n",
              "    <div class=\"colab-df-buttons\">\n",
              "\n",
              "  <div class=\"colab-df-container\">\n",
              "    <button class=\"colab-df-convert\" onclick=\"convertToInteractive('df-ac2436bb-a186-4973-a0e1-fd3a5bcc17ef')\"\n",
              "            title=\"Convert this dataframe to an interactive table.\"\n",
              "            style=\"display:none;\">\n",
              "\n",
              "  <svg xmlns=\"http://www.w3.org/2000/svg\" height=\"24px\" viewBox=\"0 -960 960 960\">\n",
              "    <path d=\"M120-120v-720h720v720H120Zm60-500h600v-160H180v160Zm220 220h160v-160H400v160Zm0 220h160v-160H400v160ZM180-400h160v-160H180v160Zm440 0h160v-160H620v160ZM180-180h160v-160H180v160Zm440 0h160v-160H620v160Z\"/>\n",
              "  </svg>\n",
              "    </button>\n",
              "\n",
              "  <style>\n",
              "    .colab-df-container {\n",
              "      display:flex;\n",
              "      gap: 12px;\n",
              "    }\n",
              "\n",
              "    .colab-df-convert {\n",
              "      background-color: #E8F0FE;\n",
              "      border: none;\n",
              "      border-radius: 50%;\n",
              "      cursor: pointer;\n",
              "      display: none;\n",
              "      fill: #1967D2;\n",
              "      height: 32px;\n",
              "      padding: 0 0 0 0;\n",
              "      width: 32px;\n",
              "    }\n",
              "\n",
              "    .colab-df-convert:hover {\n",
              "      background-color: #E2EBFA;\n",
              "      box-shadow: 0px 1px 2px rgba(60, 64, 67, 0.3), 0px 1px 3px 1px rgba(60, 64, 67, 0.15);\n",
              "      fill: #174EA6;\n",
              "    }\n",
              "\n",
              "    .colab-df-buttons div {\n",
              "      margin-bottom: 4px;\n",
              "    }\n",
              "\n",
              "    [theme=dark] .colab-df-convert {\n",
              "      background-color: #3B4455;\n",
              "      fill: #D2E3FC;\n",
              "    }\n",
              "\n",
              "    [theme=dark] .colab-df-convert:hover {\n",
              "      background-color: #434B5C;\n",
              "      box-shadow: 0px 1px 3px 1px rgba(0, 0, 0, 0.15);\n",
              "      filter: drop-shadow(0px 1px 2px rgba(0, 0, 0, 0.3));\n",
              "      fill: #FFFFFF;\n",
              "    }\n",
              "  </style>\n",
              "\n",
              "    <script>\n",
              "      const buttonEl =\n",
              "        document.querySelector('#df-ac2436bb-a186-4973-a0e1-fd3a5bcc17ef button.colab-df-convert');\n",
              "      buttonEl.style.display =\n",
              "        google.colab.kernel.accessAllowed ? 'block' : 'none';\n",
              "\n",
              "      async function convertToInteractive(key) {\n",
              "        const element = document.querySelector('#df-ac2436bb-a186-4973-a0e1-fd3a5bcc17ef');\n",
              "        const dataTable =\n",
              "          await google.colab.kernel.invokeFunction('convertToInteractive',\n",
              "                                                    [key], {});\n",
              "        if (!dataTable) return;\n",
              "\n",
              "        const docLinkHtml = 'Like what you see? Visit the ' +\n",
              "          '<a target=\"_blank\" href=https://colab.research.google.com/notebooks/data_table.ipynb>data table notebook</a>'\n",
              "          + ' to learn more about interactive tables.';\n",
              "        element.innerHTML = '';\n",
              "        dataTable['output_type'] = 'display_data';\n",
              "        await google.colab.output.renderOutput(dataTable, element);\n",
              "        const docLink = document.createElement('div');\n",
              "        docLink.innerHTML = docLinkHtml;\n",
              "        element.appendChild(docLink);\n",
              "      }\n",
              "    </script>\n",
              "  </div>\n",
              "\n",
              "\n",
              "<div id=\"df-4b75b1e4-4b2b-4ced-85ed-7c8e31db6647\">\n",
              "  <button class=\"colab-df-quickchart\" onclick=\"quickchart('df-4b75b1e4-4b2b-4ced-85ed-7c8e31db6647')\"\n",
              "            title=\"Suggest charts\"\n",
              "            style=\"display:none;\">\n",
              "\n",
              "<svg xmlns=\"http://www.w3.org/2000/svg\" height=\"24px\"viewBox=\"0 0 24 24\"\n",
              "     width=\"24px\">\n",
              "    <g>\n",
              "        <path d=\"M19 3H5c-1.1 0-2 .9-2 2v14c0 1.1.9 2 2 2h14c1.1 0 2-.9 2-2V5c0-1.1-.9-2-2-2zM9 17H7v-7h2v7zm4 0h-2V7h2v10zm4 0h-2v-4h2v4z\"/>\n",
              "    </g>\n",
              "</svg>\n",
              "  </button>\n",
              "\n",
              "<style>\n",
              "  .colab-df-quickchart {\n",
              "      --bg-color: #E8F0FE;\n",
              "      --fill-color: #1967D2;\n",
              "      --hover-bg-color: #E2EBFA;\n",
              "      --hover-fill-color: #174EA6;\n",
              "      --disabled-fill-color: #AAA;\n",
              "      --disabled-bg-color: #DDD;\n",
              "  }\n",
              "\n",
              "  [theme=dark] .colab-df-quickchart {\n",
              "      --bg-color: #3B4455;\n",
              "      --fill-color: #D2E3FC;\n",
              "      --hover-bg-color: #434B5C;\n",
              "      --hover-fill-color: #FFFFFF;\n",
              "      --disabled-bg-color: #3B4455;\n",
              "      --disabled-fill-color: #666;\n",
              "  }\n",
              "\n",
              "  .colab-df-quickchart {\n",
              "    background-color: var(--bg-color);\n",
              "    border: none;\n",
              "    border-radius: 50%;\n",
              "    cursor: pointer;\n",
              "    display: none;\n",
              "    fill: var(--fill-color);\n",
              "    height: 32px;\n",
              "    padding: 0;\n",
              "    width: 32px;\n",
              "  }\n",
              "\n",
              "  .colab-df-quickchart:hover {\n",
              "    background-color: var(--hover-bg-color);\n",
              "    box-shadow: 0 1px 2px rgba(60, 64, 67, 0.3), 0 1px 3px 1px rgba(60, 64, 67, 0.15);\n",
              "    fill: var(--button-hover-fill-color);\n",
              "  }\n",
              "\n",
              "  .colab-df-quickchart-complete:disabled,\n",
              "  .colab-df-quickchart-complete:disabled:hover {\n",
              "    background-color: var(--disabled-bg-color);\n",
              "    fill: var(--disabled-fill-color);\n",
              "    box-shadow: none;\n",
              "  }\n",
              "\n",
              "  .colab-df-spinner {\n",
              "    border: 2px solid var(--fill-color);\n",
              "    border-color: transparent;\n",
              "    border-bottom-color: var(--fill-color);\n",
              "    animation:\n",
              "      spin 1s steps(1) infinite;\n",
              "  }\n",
              "\n",
              "  @keyframes spin {\n",
              "    0% {\n",
              "      border-color: transparent;\n",
              "      border-bottom-color: var(--fill-color);\n",
              "      border-left-color: var(--fill-color);\n",
              "    }\n",
              "    20% {\n",
              "      border-color: transparent;\n",
              "      border-left-color: var(--fill-color);\n",
              "      border-top-color: var(--fill-color);\n",
              "    }\n",
              "    30% {\n",
              "      border-color: transparent;\n",
              "      border-left-color: var(--fill-color);\n",
              "      border-top-color: var(--fill-color);\n",
              "      border-right-color: var(--fill-color);\n",
              "    }\n",
              "    40% {\n",
              "      border-color: transparent;\n",
              "      border-right-color: var(--fill-color);\n",
              "      border-top-color: var(--fill-color);\n",
              "    }\n",
              "    60% {\n",
              "      border-color: transparent;\n",
              "      border-right-color: var(--fill-color);\n",
              "    }\n",
              "    80% {\n",
              "      border-color: transparent;\n",
              "      border-right-color: var(--fill-color);\n",
              "      border-bottom-color: var(--fill-color);\n",
              "    }\n",
              "    90% {\n",
              "      border-color: transparent;\n",
              "      border-bottom-color: var(--fill-color);\n",
              "    }\n",
              "  }\n",
              "</style>\n",
              "\n",
              "  <script>\n",
              "    async function quickchart(key) {\n",
              "      const quickchartButtonEl =\n",
              "        document.querySelector('#' + key + ' button');\n",
              "      quickchartButtonEl.disabled = true;  // To prevent multiple clicks.\n",
              "      quickchartButtonEl.classList.add('colab-df-spinner');\n",
              "      try {\n",
              "        const charts = await google.colab.kernel.invokeFunction(\n",
              "            'suggestCharts', [key], {});\n",
              "      } catch (error) {\n",
              "        console.error('Error during call to suggestCharts:', error);\n",
              "      }\n",
              "      quickchartButtonEl.classList.remove('colab-df-spinner');\n",
              "      quickchartButtonEl.classList.add('colab-df-quickchart-complete');\n",
              "    }\n",
              "    (() => {\n",
              "      let quickchartButtonEl =\n",
              "        document.querySelector('#df-4b75b1e4-4b2b-4ced-85ed-7c8e31db6647 button');\n",
              "      quickchartButtonEl.style.display =\n",
              "        google.colab.kernel.accessAllowed ? 'block' : 'none';\n",
              "    })();\n",
              "  </script>\n",
              "</div>\n",
              "\n",
              "    </div>\n",
              "  </div>\n"
            ],
            "application/vnd.google.colaboratory.intrinsic+json": {
              "type": "dataframe",
              "repr_error": "Out of range float values are not JSON compliant: nan"
            }
          },
          "metadata": {},
          "execution_count": 5
        }
      ]
    },
    {
      "cell_type": "markdown",
      "source": [
        "getting the relevant document and use the result to make prompt."
      ],
      "metadata": {
        "id": "YiNiLu9djPjY"
      }
    },
    {
      "cell_type": "code",
      "source": [
        "def get_relevant_passage(query, db):\n",
        "  passage = db.query(query_texts=[query], n_results=1)['documents'][0][0]\n",
        "  return passage\n",
        "\n",
        "def make_prompt(query, relevant_passage):\n",
        "  escaped = relevant_passage.replace(\"'\", \"\").replace('\"', \"\").replace(\"\\n\", \" \")\n",
        "  prompt = (\"\"\"You are a helpful and informative bot that answers questions using text from the reference passage included below. \\\n",
        "  Be sure to respond in a complete sentence, being comprehensive, including all relevant background information. \\\n",
        "  However, you are talking to a audience who want to get infomation in conscise way, so be sure to break down complicated concepts and \\\n",
        "  strike a friendly and converstional tone. \\\n",
        "  If the passage is irrelevant to the answer, you may ignore it.\n",
        "  QUESTION: '{query}'\n",
        "  PASSAGE: '{relevant_passage}'\n",
        "\n",
        "    ANSWER:\n",
        "  \"\"\").format(query=query, relevant_passage=escaped)\n",
        "\n",
        "  return prompt\n",
        "\n",
        "# Perform embedding search\n",
        "query = \"who is the interpreter of ohtani and what the interpreter was accused? \"\n",
        "passage = get_relevant_passage(query, db)\n",
        "Markdown(passage)\n",
        "#pass a query to prompt\n",
        "prompt = make_prompt(query, passage)\n",
        "Markdown(prompt)\n",
        "\n",
        "#use the generate_content method to generate a reponse from the model base on the prompt\n",
        "model = genai.GenerativeModel('gemini-pro')\n",
        "answer = model.generate_content(prompt)\n",
        "Markdown(answer.text)"
      ],
      "metadata": {
        "colab": {
          "base_uri": "https://localhost:8080/",
          "height": 64
        },
        "id": "VO_5YIIBjWgU",
        "outputId": "554eeeff-29ba-4db4-f0d5-e54e0104d05a"
      },
      "execution_count": null,
      "outputs": [
        {
          "output_type": "execute_result",
          "data": {
            "text/plain": [
              "<IPython.core.display.Markdown object>"
            ],
            "text/markdown": "Ippei Mizuhara was the interpreter for Los Angeles Dodgers superstar Shohei Ohtani. He was accused of stealing millions from Ohtani, which he allegedly used for gambling."
          },
          "metadata": {},
          "execution_count": 6
        }
      ]
    }
  ]
}